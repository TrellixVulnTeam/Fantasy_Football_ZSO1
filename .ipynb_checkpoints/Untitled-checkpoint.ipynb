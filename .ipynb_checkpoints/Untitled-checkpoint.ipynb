{
 "cells": [
  {
   "cell_type": "code",
   "execution_count": 45,
   "metadata": {
    "ExecuteTime": {
     "end_time": "2019-12-11T00:55:47.972049Z",
     "start_time": "2019-12-11T00:55:47.753582Z"
    }
   },
   "outputs": [],
   "source": [
    "import requests\n",
    "import pandas as pd\n",
    "import numpy as np\n",
    "import xml.etree.ElementTree as ET\n",
    "\n",
    "import statid\n",
    "gid=2019101310\n",
    "\n",
    "url2='http://www.nfl.com/liveupdate/game-center/{}/{}_gtd.json'.format(gid,gid)\n",
    "d=requests.get(url2).json()"
   ]
  },
  {
   "cell_type": "code",
   "execution_count": 46,
   "metadata": {
    "ExecuteTime": {
     "end_time": "2019-12-11T00:55:48.101501Z",
     "start_time": "2019-12-11T00:55:48.094492Z"
    }
   },
   "outputs": [],
   "source": [
    "game = pd.DataFrame(d[str(gid)])"
   ]
  },
  {
   "cell_type": "code",
   "execution_count": 47,
   "metadata": {
    "ExecuteTime": {
     "end_time": "2019-12-11T00:55:48.408054Z",
     "start_time": "2019-12-11T00:55:48.403044Z"
    }
   },
   "outputs": [],
   "source": [
    "drive=pd.DataFrame(game['drives'].dropna()[1])"
   ]
  },
  {
   "cell_type": "code",
   "execution_count": 71,
   "metadata": {
    "ExecuteTime": {
     "end_time": "2019-12-11T01:29:03.495352Z",
     "start_time": "2019-12-11T01:29:03.485378Z"
    }
   },
   "outputs": [],
   "source": [
    "play = pd.DataFrame(drive['plays'][0])\n",
    "play1 = pd.DataFrame(drive['plays'][1])\n",
    "play2 = pd.DataFrame(drive['plays'][2])\n",
    "play3 = pd.DataFrame(drive['plays'][3])"
   ]
  },
  {
   "cell_type": "code",
   "execution_count": 80,
   "metadata": {
    "ExecuteTime": {
     "end_time": "2019-12-11T01:37:02.210138Z",
     "start_time": "2019-12-11T01:37:02.200164Z"
    }
   },
   "outputs": [
    {
     "data": {
      "text/html": [
       "<div>\n",
       "<style scoped>\n",
       "    .dataframe tbody tr th:only-of-type {\n",
       "        vertical-align: middle;\n",
       "    }\n",
       "\n",
       "    .dataframe tbody tr th {\n",
       "        vertical-align: top;\n",
       "    }\n",
       "\n",
       "    .dataframe thead th {\n",
       "        text-align: right;\n",
       "    }\n",
       "</style>\n",
       "<table border=\"1\" class=\"dataframe\">\n",
       "  <thead>\n",
       "    <tr style=\"text-align: right;\">\n",
       "      <th></th>\n",
       "      <th>sequence</th>\n",
       "      <th>clubcode</th>\n",
       "      <th>playerName</th>\n",
       "      <th>statId</th>\n",
       "      <th>yards</th>\n",
       "    </tr>\n",
       "  </thead>\n",
       "  <tbody>\n",
       "    <tr>\n",
       "      <th>0</th>\n",
       "      <td>2</td>\n",
       "      <td>NYJ</td>\n",
       "      <td>L.Williams</td>\n",
       "      <td>79</td>\n",
       "      <td>0.0</td>\n",
       "    </tr>\n",
       "  </tbody>\n",
       "</table>\n",
       "</div>"
      ],
      "text/plain": [
       "   sequence clubcode  playerName  statId  yards\n",
       "0         2      NYJ  L.Williams      79    0.0"
      ]
     },
     "execution_count": 80,
     "metadata": {},
     "output_type": "execute_result"
    }
   ],
   "source": [
    "pd.DataFrame(play['players']['00-0031933'])"
   ]
  },
  {
   "cell_type": "code",
   "execution_count": 89,
   "metadata": {
    "ExecuteTime": {
     "end_time": "2019-12-11T01:42:11.966912Z",
     "start_time": "2019-12-11T01:42:11.960928Z"
    }
   },
   "outputs": [
    {
     "data": {
      "text/plain": [
       "[{'sequence': 2,\n",
       "  'clubcode': 'NYJ',\n",
       "  'playerName': 'L.Williams',\n",
       "  'statId': 79,\n",
       "  'yards': 0.0}]"
      ]
     },
     "metadata": {},
     "output_type": "display_data"
    }
   ],
   "source": [
    "play_id=0\n",
    "for play in drive['plays'].dropna():\n",
    "    play_id+=1\n",
    "    playDesc = play['desc']\n",
    "    posteam = play['posteam']\n",
    "    for key,val in play['players'].items():\n",
    "        val['posteam']=posteam\n",
    "        val['defteam']=defteam\n",
    "        val['desc']=playDesc\n",
    "        val['playerID']=key\n",
    "        val['gid']=gid\n",
    "        val['play']=play_id\n",
    "        val['drive']=drive_id\n",
    "    break"
   ]
  },
  {
   "cell_type": "code",
   "execution_count": 87,
   "metadata": {
    "ExecuteTime": {
     "end_time": "2019-12-11T01:41:46.446763Z",
     "start_time": "2019-12-11T01:41:46.441796Z"
    },
    "scrolled": true
   },
   "outputs": [
    {
     "data": {
      "text/plain": [
       "{'sp': 0,\n",
       " 'qtr': 1,\n",
       " 'down': 4,\n",
       " 'time': '11:29',\n",
       " 'yrdln': 'DAL 38',\n",
       " 'ydstogo': 5,\n",
       " 'ydsnet': 5,\n",
       " 'posteam': 'DAL',\n",
       " 'desc': '(11:29) C.Jones punts 55 yards to NYJ 7, Center-L.Ladouceur. B.Berrios to NYJ 17 for 10 yards (C.Goodwin).',\n",
       " 'note': 'PUNT',\n",
       " 'players': {'00-0031357': [{'sequence': 4,\n",
       "    'clubcode': 'DAL',\n",
       "    'playerName': 'C.Goodwin',\n",
       "    'statId': 79,\n",
       "    'yards': 0.0}],\n",
       "  '00-0034419': [{'sequence': 2,\n",
       "    'clubcode': 'NYJ',\n",
       "    'playerName': 'B.Berrios',\n",
       "    'statId': 33,\n",
       "    'yards': 10.0}],\n",
       "  '00-0028664': [{'sequence': 1,\n",
       "    'clubcode': 'DAL',\n",
       "    'playerName': 'C.Jones',\n",
       "    'statId': 29,\n",
       "    'yards': 55.0},\n",
       "   {'sequence': 3,\n",
       "    'clubcode': 'DAL',\n",
       "    'playerName': 'C.Jones',\n",
       "    'statId': 30,\n",
       "    'yards': 0.0}]}}"
      ]
     },
     "execution_count": 87,
     "metadata": {},
     "output_type": "execute_result"
    }
   ],
   "source": [
    "play"
   ]
  },
  {
   "cell_type": "code",
   "execution_count": null,
   "metadata": {},
   "outputs": [],
   "source": []
  },
  {
   "cell_type": "code",
   "execution_count": null,
   "metadata": {},
   "outputs": [],
   "source": [
    "'clubcode'\n",
    "'playerName'\n",
    "'sequence'\n",
    "'statId'\n",
    "'yards'\n",
    "'playerid'\n",
    "'play'\n",
    "'drive'\n",
    "'description'\n",
    "'gid'\n",
    "'posteam'\n",
    "'defteam'"
   ]
  }
 ],
 "metadata": {
  "hide_input": false,
  "kernelspec": {
   "display_name": "Python 3",
   "language": "python",
   "name": "python3"
  },
  "language_info": {
   "codemirror_mode": {
    "name": "ipython",
    "version": 3
   },
   "file_extension": ".py",
   "mimetype": "text/x-python",
   "name": "python",
   "nbconvert_exporter": "python",
   "pygments_lexer": "ipython3",
   "version": "3.6.9"
  },
  "toc": {
   "base_numbering": 1,
   "nav_menu": {},
   "number_sections": true,
   "sideBar": true,
   "skip_h1_title": false,
   "title_cell": "Table of Contents",
   "title_sidebar": "Contents",
   "toc_cell": false,
   "toc_position": {},
   "toc_section_display": true,
   "toc_window_display": false
  }
 },
 "nbformat": 4,
 "nbformat_minor": 2
}
